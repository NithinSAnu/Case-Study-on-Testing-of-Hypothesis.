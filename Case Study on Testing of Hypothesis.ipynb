{
 "cells": [
  {
   "cell_type": "code",
   "execution_count": 2,
   "id": "1da1108d",
   "metadata": {},
   "outputs": [],
   "source": [
    "import pandas as pd\n",
    "from scipy.stats import ttest_rel, chi2_contingency"
   ]
  },
  {
   "cell_type": "code",
   "execution_count": 6,
   "id": "1b92c227",
   "metadata": {},
   "outputs": [],
   "source": [
    "df = pd.read_csv(\"C:/Users/ACER/Downloads/Sales_add.csv\")"
   ]
  },
  {
   "cell_type": "code",
   "execution_count": 7,
   "id": "80cbe76c",
   "metadata": {},
   "outputs": [],
   "source": [
    "df['Increase_in_Sales'] = df['Sales_After_digital_add(in $)'] - df['Sales_before_digital_add(in $)']\n",
    "\n",
    "t_statistic, p_value = ttest_rel(df['Sales_After_digital_add(in $)'], df['Sales_before_digital_add(in $)'])"
   ]
  },
  {
   "cell_type": "code",
   "execution_count": 8,
   "id": "5dc061b8",
   "metadata": {},
   "outputs": [
    {
     "name": "stdout",
     "output_type": "stream",
     "text": [
      "Hypothesis Testing - Increase in Sales:\n",
      "T-statistic: 12.09070525287017\n",
      "P-value: 6.336667004575778e-11\n",
      "There is a significant increase in sales after the digital marketing campaign.\n"
     ]
    }
   ],
   "source": [
    "print(\"Hypothesis Testing - Increase in Sales:\")\n",
    "print(f\"T-statistic: {t_statistic}\")\n",
    "print(f\"P-value: {p_value}\")\n",
    "if p_value < 0.05:\n",
    "    print(\"There is a significant increase in sales after the digital marketing campaign.\")\n",
    "else:\n",
    "    print(\"There is no significant increase in sales after the digital marketing campaign.\")\n"
   ]
  },
  {
   "cell_type": "code",
   "execution_count": 9,
   "id": "125b8f9a",
   "metadata": {},
   "outputs": [],
   "source": [
    "dependency_table = pd.crosstab(df['Region'], df['Manager'])\n",
    "chi2_stat, p_value, _, _ = chi2_contingency(dependency_table)"
   ]
  },
  {
   "cell_type": "code",
   "execution_count": 10,
   "id": "b5a1976f",
   "metadata": {},
   "outputs": [
    {
     "name": "stdout",
     "output_type": "stream",
     "text": [
      "\n",
      "Hypothesis Testing - Dependency between Region and Manager:\n",
      "Chi-square statistic: 3.050566893424036\n",
      "P-value: 0.5493991051158094\n",
      "There is no significant dependency between Region and Manager.\n"
     ]
    }
   ],
   "source": [
    "print(\"\\nHypothesis Testing - Dependency between Region and Manager:\")\n",
    "print(f\"Chi-square statistic: {chi2_stat}\")\n",
    "print(f\"P-value: {p_value}\")\n",
    "if p_value < 0.05:\n",
    "    print(\"There is a significant dependency between Region and Manager.\")\n",
    "else:\n",
    "    print(\"There is no significant dependency between Region and Manager.\")\n"
   ]
  },
  {
   "cell_type": "code",
   "execution_count": null,
   "id": "7dce7b73",
   "metadata": {},
   "outputs": [],
   "source": []
  }
 ],
 "metadata": {
  "kernelspec": {
   "display_name": "Python 3 (ipykernel)",
   "language": "python",
   "name": "python3"
  },
  "language_info": {
   "codemirror_mode": {
    "name": "ipython",
    "version": 3
   },
   "file_extension": ".py",
   "mimetype": "text/x-python",
   "name": "python",
   "nbconvert_exporter": "python",
   "pygments_lexer": "ipython3",
   "version": "3.10.9"
  }
 },
 "nbformat": 4,
 "nbformat_minor": 5
}
